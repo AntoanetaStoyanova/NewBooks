{
 "cells": [
  {
   "cell_type": "code",
   "execution_count": 45,
   "metadata": {},
   "outputs": [],
   "source": [
    "import os\n",
    "import openai\n",
    "\n",
    "\n",
    "\n",
    "azure_openai_api_key = os.getenv(\"AZURE_OPENAI_API_KEY_4\")\n",
    "azure_openai_api_endpoint = os.getenv(\"AZURE_OPENAI_API_ENDPOINT_4\")\n",
    "deployment_name = os.getenv(\"AZURE_DEPLOYMENT_NAME_4\")\n",
    "\n"
   ]
  },
  {
   "cell_type": "code",
   "execution_count": 46,
   "metadata": {},
   "outputs": [],
   "source": [
    "from langchain.document_loaders.csv_loader import CSVLoader\n",
    "\n",
    "loader = CSVLoader(file_path=\"gautenberg.csv\", encoding=\"utf-8\")\n",
    "documents = loader.load()"
   ]
  },
  {
   "cell_type": "code",
   "execution_count": 47,
   "metadata": {},
   "outputs": [
    {
     "ename": "KeyboardInterrupt",
     "evalue": "",
     "output_type": "error",
     "traceback": [
      "\u001b[1;31m---------------------------------------------------------------------------\u001b[0m",
      "\u001b[1;31mKeyboardInterrupt\u001b[0m                         Traceback (most recent call last)",
      "Cell \u001b[1;32mIn[47], line 7\u001b[0m\n\u001b[0;32m      5\u001b[0m \u001b[38;5;66;03m# Load documents from the CSV\u001b[39;00m\n\u001b[0;32m      6\u001b[0m loader \u001b[38;5;241m=\u001b[39m CSVLoader(file_path\u001b[38;5;241m=\u001b[39m\u001b[38;5;124m\"\u001b[39m\u001b[38;5;124mgautenberg.csv\u001b[39m\u001b[38;5;124m\"\u001b[39m, encoding\u001b[38;5;241m=\u001b[39m\u001b[38;5;124m\"\u001b[39m\u001b[38;5;124mutf-8\u001b[39m\u001b[38;5;124m\"\u001b[39m)\n\u001b[1;32m----> 7\u001b[0m documents \u001b[38;5;241m=\u001b[39m \u001b[43mloader\u001b[49m\u001b[38;5;241;43m.\u001b[39;49m\u001b[43mload\u001b[49m\u001b[43m(\u001b[49m\u001b[43m)\u001b[49m\n\u001b[0;32m      9\u001b[0m \u001b[38;5;66;03m# Initialize the Hugging Face embeddings model\u001b[39;00m\n\u001b[0;32m     10\u001b[0m embeddings_model \u001b[38;5;241m=\u001b[39m HuggingFaceEmbeddings(model_name\u001b[38;5;241m=\u001b[39m\u001b[38;5;124m\"\u001b[39m\u001b[38;5;124msentence-transformers/all-MiniLM-L6-v2\u001b[39m\u001b[38;5;124m\"\u001b[39m)  \u001b[38;5;66;03m# Replace with your preferred model\u001b[39;00m\n",
      "File \u001b[1;32m~\\AppData\\Roaming\\Python\\Python311\\site-packages\\langchain_core\\document_loaders\\base.py:31\u001b[0m, in \u001b[0;36mBaseLoader.load\u001b[1;34m(self)\u001b[0m\n\u001b[0;32m     29\u001b[0m \u001b[38;5;28;01mdef\u001b[39;00m \u001b[38;5;21mload\u001b[39m(\u001b[38;5;28mself\u001b[39m) \u001b[38;5;241m-\u001b[39m\u001b[38;5;241m>\u001b[39m \u001b[38;5;28mlist\u001b[39m[Document]:\n\u001b[0;32m     30\u001b[0m \u001b[38;5;250m    \u001b[39m\u001b[38;5;124;03m\"\"\"Load data into Document objects.\"\"\"\u001b[39;00m\n\u001b[1;32m---> 31\u001b[0m     \u001b[38;5;28;01mreturn\u001b[39;00m \u001b[38;5;28mlist\u001b[39m(\u001b[38;5;28mself\u001b[39m\u001b[38;5;241m.\u001b[39mlazy_load())\n",
      "File \u001b[1;32m~\\AppData\\Roaming\\Python\\Python311\\site-packages\\langchain_community\\document_loaders\\csv_loader.py:135\u001b[0m, in \u001b[0;36mCSVLoader.lazy_load\u001b[1;34m(self)\u001b[0m\n\u001b[0;32m    133\u001b[0m \u001b[38;5;28;01mtry\u001b[39;00m:\n\u001b[0;32m    134\u001b[0m     \u001b[38;5;28;01mwith\u001b[39;00m \u001b[38;5;28mopen\u001b[39m(\u001b[38;5;28mself\u001b[39m\u001b[38;5;241m.\u001b[39mfile_path, newline\u001b[38;5;241m=\u001b[39m\u001b[38;5;124m\"\u001b[39m\u001b[38;5;124m\"\u001b[39m, encoding\u001b[38;5;241m=\u001b[39m\u001b[38;5;28mself\u001b[39m\u001b[38;5;241m.\u001b[39mencoding) \u001b[38;5;28;01mas\u001b[39;00m csvfile:\n\u001b[1;32m--> 135\u001b[0m         \u001b[38;5;28;01myield from\u001b[39;00m \u001b[38;5;28mself\u001b[39m\u001b[38;5;241m.\u001b[39m__read_file(csvfile)\n\u001b[0;32m    136\u001b[0m \u001b[38;5;28;01mexcept\u001b[39;00m \u001b[38;5;167;01mUnicodeDecodeError\u001b[39;00m \u001b[38;5;28;01mas\u001b[39;00m e:\n\u001b[0;32m    137\u001b[0m     \u001b[38;5;28;01mif\u001b[39;00m \u001b[38;5;28mself\u001b[39m\u001b[38;5;241m.\u001b[39mautodetect_encoding:\n",
      "File \u001b[1;32m~\\AppData\\Roaming\\Python\\Python311\\site-packages\\langchain_community\\document_loaders\\csv_loader.py:155\u001b[0m, in \u001b[0;36mCSVLoader.__read_file\u001b[1;34m(self, csvfile)\u001b[0m\n\u001b[0;32m    153\u001b[0m \u001b[38;5;28;01mdef\u001b[39;00m \u001b[38;5;21m__read_file\u001b[39m(\u001b[38;5;28mself\u001b[39m, csvfile: TextIOWrapper) \u001b[38;5;241m-\u001b[39m\u001b[38;5;241m>\u001b[39m Iterator[Document]:\n\u001b[0;32m    154\u001b[0m     csv_reader \u001b[38;5;241m=\u001b[39m csv\u001b[38;5;241m.\u001b[39mDictReader(csvfile, \u001b[38;5;241m*\u001b[39m\u001b[38;5;241m*\u001b[39m\u001b[38;5;28mself\u001b[39m\u001b[38;5;241m.\u001b[39mcsv_args)\n\u001b[1;32m--> 155\u001b[0m     \u001b[38;5;28;01mfor\u001b[39;00m i, row \u001b[38;5;129;01min\u001b[39;00m \u001b[38;5;28menumerate\u001b[39m(csv_reader):\n\u001b[0;32m    156\u001b[0m         \u001b[38;5;28;01mtry\u001b[39;00m:\n\u001b[0;32m    157\u001b[0m             source \u001b[38;5;241m=\u001b[39m (\n\u001b[0;32m    158\u001b[0m                 row[\u001b[38;5;28mself\u001b[39m\u001b[38;5;241m.\u001b[39msource_column]\n\u001b[0;32m    159\u001b[0m                 \u001b[38;5;28;01mif\u001b[39;00m \u001b[38;5;28mself\u001b[39m\u001b[38;5;241m.\u001b[39msource_column \u001b[38;5;129;01mis\u001b[39;00m \u001b[38;5;129;01mnot\u001b[39;00m \u001b[38;5;28;01mNone\u001b[39;00m\n\u001b[0;32m    160\u001b[0m                 \u001b[38;5;28;01melse\u001b[39;00m \u001b[38;5;28mstr\u001b[39m(\u001b[38;5;28mself\u001b[39m\u001b[38;5;241m.\u001b[39mfile_path)\n\u001b[0;32m    161\u001b[0m             )\n",
      "File \u001b[1;32mc:\\ProgramData\\anaconda3\\envs\\openai\\Lib\\csv.py:111\u001b[0m, in \u001b[0;36mDictReader.__next__\u001b[1;34m(self)\u001b[0m\n\u001b[0;32m    108\u001b[0m \u001b[38;5;28;01mif\u001b[39;00m \u001b[38;5;28mself\u001b[39m\u001b[38;5;241m.\u001b[39mline_num \u001b[38;5;241m==\u001b[39m \u001b[38;5;241m0\u001b[39m:\n\u001b[0;32m    109\u001b[0m     \u001b[38;5;66;03m# Used only for its side effect.\u001b[39;00m\n\u001b[0;32m    110\u001b[0m     \u001b[38;5;28mself\u001b[39m\u001b[38;5;241m.\u001b[39mfieldnames\n\u001b[1;32m--> 111\u001b[0m row \u001b[38;5;241m=\u001b[39m \u001b[38;5;28mnext\u001b[39m(\u001b[38;5;28mself\u001b[39m\u001b[38;5;241m.\u001b[39mreader)\n\u001b[0;32m    112\u001b[0m \u001b[38;5;28mself\u001b[39m\u001b[38;5;241m.\u001b[39mline_num \u001b[38;5;241m=\u001b[39m \u001b[38;5;28mself\u001b[39m\u001b[38;5;241m.\u001b[39mreader\u001b[38;5;241m.\u001b[39mline_num\n\u001b[0;32m    114\u001b[0m \u001b[38;5;66;03m# unlike the basic reader, we prefer not to return blanks,\u001b[39;00m\n\u001b[0;32m    115\u001b[0m \u001b[38;5;66;03m# because we will typically wind up with a dict full of None\u001b[39;00m\n\u001b[0;32m    116\u001b[0m \u001b[38;5;66;03m# values\u001b[39;00m\n",
      "File \u001b[1;32m<frozen codecs>:319\u001b[0m, in \u001b[0;36mdecode\u001b[1;34m(self, input, final)\u001b[0m\n",
      "\u001b[1;31mKeyboardInterrupt\u001b[0m: "
     ]
    }
   ],
   "source": [
    "from langchain.document_loaders.csv_loader import CSVLoader\n",
    "from langchain.embeddings import HuggingFaceEmbeddings\n",
    "from langchain_community.vectorstores import FAISS \n",
    "\n",
    "# Load documents from the CSV\n",
    "loader = CSVLoader(file_path=\"gautenberg.csv\", encoding=\"utf-8\")\n",
    "documents = loader.load()\n",
    "\n",
    "# Initialize the Hugging Face embeddings model\n",
    "embeddings_model = HuggingFaceEmbeddings(model_name=\"sentence-transformers/all-MiniLM-L6-v2\")  # Replace with your preferred model\n",
    "\n",
    "# Create the FAISS vector store from the loaded documents\n",
    "vectorstore = FAISS.from_documents(documents, embeddings_model)\n",
    "\n"
   ]
  },
  {
   "cell_type": "code",
   "execution_count": 40,
   "metadata": {},
   "outputs": [],
   "source": [
    "vectorstore.save_local(\"vectorestore\")"
   ]
  },
  {
   "cell_type": "code",
   "execution_count": 48,
   "metadata": {},
   "outputs": [],
   "source": [
    "vectorestore = FAISS.load_local(\"vectorestore\", embeddings_model, allow_dangerous_deserialization=True)"
   ]
  },
  {
   "cell_type": "code",
   "execution_count": 43,
   "metadata": {},
   "outputs": [
    {
     "name": "stdout",
     "output_type": "stream",
     "text": [
      "[Document(metadata={'source': 'gautenberg.csv', 'row': 15828}, page_content=': 15828\\nEbook ID: 15900\\nAuthor: Zola, Émile, 1840-1902\\nTitle: His Masterpiece\\nCredits: Dagny and David Widger\\nSummary: \"His Masterpiece\" by Émile Zola is a novel written in the late 19th century. The story navigates artistic life in Paris, focusing on the character Claude Lantier, a painter grappling with his ambitions and the complexities of both life and love. Zola\\'s portrayal is expected to reflect the personal struggles and societal challenges faced by artists during this transformative period in France. The opening of the novel introduces Claude as he navigates a stormy Paris night, leading to an unexpected encounter with a drenched young girl named Christine. She is lost and frightened after a series of setbacks—an accident on her train and a rogue cab driver. Claude\\'s initial distrust of Christine gradually softens as he offers her shelter in his studio, setting the stage for a complicated dynamic between them. The text vividly explores Claude\\'s perceptions of women, his artistic aspirations, and the romantic tension that begins to develop with Christine, providing an engaging glimpse into both his internal struggles and the broader artistic context of the time. (This is an automatically generated summary.\\nLanguage: English\\nLoC Class: PQ: Language and Literatures: Romance literatures: French, Italian, Spanish, Portuguese\\nSubject: Autobiographical fiction'), Document(metadata={'source': 'gautenberg.csv', 'row': 722}, page_content=': 722\\nEbook ID: 728\\nAuthor: Howells, William Dean, 1837-1920\\nTitle: Emile Zola\\nCredits: Produced by Anthony J. Adam.\\nSummary: \"Emile Zola\" by William Dean Howells is a biography written in the early 20th century. This book provides an insightful exploration of the life and work of Emile Zola, a pivotal figure in the literary realism movement. The narrative delves into Zola\\'s philosophy of literature, his influence on society, and his complex relationship with the themes of morality and realism. In this work, Howells presents Zola as a dynamic and often paradoxical character—a man who strived for realism but was deeply influenced by romanticism. The biography discusses Zola’s literary contributions, particularly his epic approach to narratives that spotlight social issues such as poverty, labor strikes, and moral decay. It also highlights his courageous stance during the Dreyfus Affair, portraying Zola as a moral champion who fought against injustice. Howells effectively illustrates how Zola\\'s writings capture the essence of human experience while maintaining a commitment to truth and ethical representation, emphasizing the enduring impact Zola has had on both literature and social activism. (This is an automatically generated summary.\\nLanguage: English\\nLoC Class: PQ: Language and Literatures: Romance literatures: French, Italian, Spanish, Portuguese\\nSubject: Zola, Émile, 1840-1902'), Document(metadata={'source': 'gautenberg.csv', 'row': 0}, page_content=': 0\\nEbook ID: 8600\\nAuthor: Zola, Émile, 1840-1902\\nTitle: L\\'Assommoir\\nCredits: John Bickers, Dagny and David Widger\\nSummary: \"L\\'Assommoir\" by Émile Zola is a novel written during the late 19th century, an era characterized by the realism movement in literature. The book explores the struggles of Gervaise, a laundress trying to build a life for herself and her children amidst the oppressive and often brutal conditions of working-class Paris. The story highlights themes of poverty, domestic strife, and the impact of alcoholism on individuals and families. The opening of \"L\\'Assommoir\" presents Gervaise in a state of despair, anxiously awaiting the return of Lantier, her partner, who has been increasingly unfaithful and irresponsible. The narrative depicts her emotional turmoil as she reflects on their meager living conditions and the struggles of single motherhood. Gervaise\\'s observations of the bustling street below reveal the harsh realities faced by workers in the city, and through her interactions with Lantier, the text illustrates the complexities of love, frustration, and survival in a difficult social environment. The chapter sets the stage for the unfolding of Gervaise\\'s life, marked by hope yet overshadowed by the challenges of her circumstances and her relationships. (This is an automatically generated summary.\\nLanguage: English\\nLoC Class: PQ: Language and Literatures: Romance literatures: French, Italian, Spanish, Portuguese\\nSubject: Domestic fiction'), Document(metadata={'source': 'gautenberg.csv', 'row': 8528}, page_content=': 8528\\nEbook ID: 8558\\nAuthor: Zola, Émile, 1840-1902\\nTitle: L\\'Assommoir\\nCredits: Cam Venezuela, Earle Beach, Eric Eldred, and the Distributed Online Proofing Team\\nSummary: \"L\\'Assommoir\" by Émile Zola is a novel written during the late 19th century, capturing the harsh realities of working-class life in Paris. The story centers around Gervaise, a young woman navigating the struggles of poverty, love, and betrayal as she attempts to build a life for herself and her two children after being abandoned by her partner, Lantier. The opening of \"L\\'Assommoir\" introduces Gervaise, who anxiously awaits the return of Lantier late into the night. As she reflects on their difficult living conditions in a rundown hotel room filled with the burdens of poverty, readers catch glimpses of her despair and hope. Eventually, her worst fears are confirmed when she learns Lantier has left her for another woman. The narrative is rich with vivid descriptions of the gritty environment and the dynamics of Gervaise\\'s relationships, foreshadowing the challenges she will face in reclaiming her life amidst the chaos and heartache. (This is an automatically generated summary.\\nLanguage: English\\nLoC Class: PQ: Language and Literatures: Romance literatures: French, Italian, Spanish, Portuguese\\nSubject: Domestic fiction')]\n"
     ]
    }
   ],
   "source": [
    "results = vectorstore.similarity_search(\"Give me a name of a book from Emil?\")\n",
    "print(results)"
   ]
  }
 ],
 "metadata": {
  "kernelspec": {
   "display_name": "openai",
   "language": "python",
   "name": "python3"
  },
  "language_info": {
   "codemirror_mode": {
    "name": "ipython",
    "version": 3
   },
   "file_extension": ".py",
   "mimetype": "text/x-python",
   "name": "python",
   "nbconvert_exporter": "python",
   "pygments_lexer": "ipython3",
   "version": "3.11.9"
  }
 },
 "nbformat": 4,
 "nbformat_minor": 2
}
